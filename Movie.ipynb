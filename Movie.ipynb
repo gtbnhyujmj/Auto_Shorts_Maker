{
  "nbformat": 4,
  "nbformat_minor": 0,
  "metadata": {
    "colab": {
      "provenance": [],
      "mount_file_id": "1aTZTtF6iOB4fvgEjNygWLv59iU5xCWup",
      "authorship_tag": "ABX9TyN+y/vzSeWgHxhBYUfIIXVY",
      "include_colab_link": true
    },
    "kernelspec": {
      "name": "python3",
      "display_name": "Python 3"
    },
    "language_info": {
      "name": "python"
    }
  },
  "cells": [
    {
      "cell_type": "markdown",
      "metadata": {
        "id": "view-in-github",
        "colab_type": "text"
      },
      "source": [
        "<a href=\"https://colab.research.google.com/github/gtbnhyujmj/Auto_Shorts_Maker/blob/main/Movie.ipynb\" target=\"_parent\"><img src=\"https://colab.research.google.com/assets/colab-badge.svg\" alt=\"Open In Colab\"/></a>"
      ]
    },
    {
      "cell_type": "code",
      "execution_count": 21,
      "metadata": {
        "colab": {
          "base_uri": "https://localhost:8080/"
        },
        "id": "Y_PN13c6TtLO",
        "outputId": "a390397e-0835-4627-a4ab-daf48fff5cb1"
      },
      "outputs": [
        {
          "output_type": "stream",
          "name": "stdout",
          "text": [
            "Drive already mounted at /content/drive; to attempt to forcibly remount, call drive.mount(\"/content/drive\", force_remount=True).\n"
          ]
        }
      ],
      "source": [
        "from google.colab import drive\n",
        "drive.mount('/content/drive')"
      ]
    },
    {
      "cell_type": "code",
      "source": [
        "import cv2\n",
        "import numpy as np\n",
        "from PIL import Image\n",
        "import os"
      ],
      "metadata": {
        "id": "m_IPS4LvU33y"
      },
      "execution_count": 22,
      "outputs": []
    },
    {
      "cell_type": "markdown",
      "source": [
        "# 定義函數"
      ],
      "metadata": {
        "id": "T0G7DV4xXrsZ"
      }
    },
    {
      "cell_type": "code",
      "source": [
        "def overlay_png_on_video(video_path, png_path, output_path, position=(0, 0)):\n",
        "    cap = cv2.VideoCapture(video_path)\n",
        "    if not cap.isOpened():\n",
        "        print(\"無法打開影片\")\n",
        "        return\n",
        "\n",
        "    fourcc = cv2.VideoWriter_fourcc(*'mp4v')\n",
        "    fps = cap.get(cv2.CAP_PROP_FPS)\n",
        "    w = int(cap.get(cv2.CAP_PROP_FRAME_WIDTH))\n",
        "    h = int(cap.get(cv2.CAP_PROP_FRAME_HEIGHT))\n",
        "    out = cv2.VideoWriter(output_path, fourcc, fps, (w, h))\n",
        "\n",
        "    # 讀取 PNG 並轉為帶透明度的格式\n",
        "    overlay_img = Image.open(png_path).convert(\"RGBA\").resize((w, h))  # 你可以改尺寸或用原圖\n",
        "    overlay_np = np.array(overlay_img)\n",
        "\n",
        "    # 分離圖層\n",
        "    overlay_rgb = overlay_np[..., :3]\n",
        "    overlay_alpha = overlay_np[..., 3:] / 255.0\n",
        "\n",
        "    while True:\n",
        "        ret, frame = cap.read()\n",
        "        if not ret:\n",
        "            break\n",
        "\n",
        "        # 將 BGR → RGB，轉成 PIL 處理格式\n",
        "        frame_rgb = cv2.cvtColor(frame, cv2.COLOR_BGR2RGB)\n",
        "        frame_np = frame_rgb.astype(float)\n",
        "\n",
        "        # 疊圖（透明度混合）\n",
        "        blended = frame_np * (1 - overlay_alpha) + overlay_rgb * overlay_alpha\n",
        "        blended = np.clip(blended, 0, 255).astype(np.uint8)\n",
        "\n",
        "        # 轉回 BGR 寫入影片\n",
        "        blended_bgr = cv2.cvtColor(blended, cv2.COLOR_RGB2BGR)\n",
        "        out.write(blended_bgr)\n",
        "\n",
        "    cap.release()\n",
        "    out.release()\n",
        "    print(\"完成輸出：\", output_path)"
      ],
      "metadata": {
        "id": "YHLVkFn1Xr_B"
      },
      "execution_count": 23,
      "outputs": []
    },
    {
      "cell_type": "markdown",
      "source": [
        "# 設定資料夾路徑"
      ],
      "metadata": {
        "id": "1t8-4dCMUYiq"
      }
    },
    {
      "cell_type": "code",
      "source": [
        "# In Google Drive\n",
        "\n",
        "bg_folder = \"/content/drive/MyDrive/shorts/backgrounds_MP4/bg1.mp4\"\n",
        "char_folder = \"/content/drive/MyDrive/shorts/characters/char1.png\"\n",
        "overlay_folder = \"/content/drive/MyDrive/shorts/PNG_Overlayers/OverLayers1.png\""
      ],
      "metadata": {
        "id": "e6J3taKRUW7q"
      },
      "execution_count": 24,
      "outputs": []
    },
    {
      "cell_type": "markdown",
      "source": [
        "# 執行區域"
      ],
      "metadata": {
        "id": "GEdm-MjgYIDJ"
      }
    },
    {
      "cell_type": "code",
      "source": [
        "output_path = \"/content/BBB.mp4\""
      ],
      "metadata": {
        "id": "-Zns521tYN_J"
      },
      "execution_count": 25,
      "outputs": []
    },
    {
      "cell_type": "code",
      "source": [
        "# bg_folder\n",
        "# char_folder\n",
        "# overlay_folder\n",
        "\n",
        "overlay_png_on_video(char_folder, overlay_folder, output_path, position=(0, 0))"
      ],
      "metadata": {
        "colab": {
          "base_uri": "https://localhost:8080/"
        },
        "id": "UUYA_YJaYIRY",
        "outputId": "e89a5c11-19a6-4830-fce1-fbb4f39ba59b"
      },
      "execution_count": 26,
      "outputs": [
        {
          "output_type": "stream",
          "name": "stdout",
          "text": [
            "完成輸出： /content/BBB.mp4\n"
          ]
        }
      ]
    },
    {
      "cell_type": "markdown",
      "source": [
        "# 檢討"
      ],
      "metadata": {
        "id": "k4m940e6Zwm4"
      }
    },
    {
      "cell_type": "code",
      "source": [
        "# 他這個做法好像不能循環兩次，背景會不見。\n",
        "# 因為這段程式對每一幀都直接用透明 PNG 疊圖，而沒有正確地處理 Alpha 混合（透明度累積）。\n",
        "# 如果 PNG 中的 alpha 是半透明或透明，長時間疊下來會「越來越黑」或「越來越透明」。\n",
        "\n",
        "# 在處理"
      ],
      "metadata": {
        "id": "yujTQaTfZyJQ"
      },
      "execution_count": 27,
      "outputs": []
    },
    {
      "cell_type": "code",
      "source": [
        "# STU"
      ],
      "metadata": {
        "id": "D_sdDGjebIJH"
      },
      "execution_count": null,
      "outputs": []
    }
  ]
}