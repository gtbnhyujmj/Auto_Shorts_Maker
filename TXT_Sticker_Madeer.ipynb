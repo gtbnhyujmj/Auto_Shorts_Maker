{
  "nbformat": 4,
  "nbformat_minor": 0,
  "metadata": {
    "colab": {
      "provenance": [],
      "authorship_tag": "ABX9TyMDMzfnKNGsriRp7FSj0RVB",
      "include_colab_link": true
    },
    "kernelspec": {
      "name": "python3",
      "display_name": "Python 3"
    },
    "language_info": {
      "name": "python"
    }
  },
  "cells": [
    {
      "cell_type": "markdown",
      "metadata": {
        "id": "view-in-github",
        "colab_type": "text"
      },
      "source": [
        "<a href=\"https://colab.research.google.com/github/gtbnhyujmj/Auto_Shorts_Maker/blob/main/TXT_Sticker_Madeer.ipynb\" target=\"_parent\"><img src=\"https://colab.research.google.com/assets/colab-badge.svg\" alt=\"Open In Colab\"/></a>"
      ]
    },
    {
      "cell_type": "code",
      "execution_count": 3,
      "metadata": {
        "id": "2J5d6HdLwiSv"
      },
      "outputs": [],
      "source": [
        "from PIL import Image, ImageDraw, ImageFont\n",
        "import os"
      ]
    },
    {
      "cell_type": "code",
      "source": [
        "from google.colab import drive\n",
        "drive.mount('/content/drive')"
      ],
      "metadata": {
        "id": "ZCY2WzhF6Y2x",
        "outputId": "99fb85de-337c-4f24-b772-7b5d78f6f852",
        "colab": {
          "base_uri": "https://localhost:8080/"
        }
      },
      "execution_count": 4,
      "outputs": [
        {
          "output_type": "stream",
          "name": "stdout",
          "text": [
            "Drive already mounted at /content/drive; to attempt to forcibly remount, call drive.mount(\"/content/drive\", force_remount=True).\n"
          ]
        }
      ]
    },
    {
      "cell_type": "code",
      "source": [
        "# === 設定 ===\n",
        "IMG_SIZE = (1080, 1920)\n",
        "FONT_SIZE = 100\n",
        "\n",
        "TOP_OFFSET = 150      # 從頂部下來的位置\n",
        "RIGHT_MARGIN = 60     # 右邊留白，避免太靠邊\n",
        "\n",
        "OUTPUT_DIR = \"/content/drive/MyDrive/shorts/Text_Overlayers\"\n",
        "os.makedirs(OUTPUT_DIR, exist_ok=True)"
      ],
      "metadata": {
        "id": "q-ar6ZjawkP2"
      },
      "execution_count": 5,
      "outputs": []
    },
    {
      "cell_type": "code",
      "source": [
        "# === 自動尋找一個可用字體（支援中英）\n",
        "import matplotlib.font_manager as fm\n",
        "font_list = fm.findSystemFonts(fontpaths=['/content/drive/MyDrive/shorts/font', '/content/drive/MyDrive/shorts/fonts'])\n",
        "FONT_PATH = next((f for f in font_list if \"DejaVuSans-Bold.ttf\" in f), font_list[0])\n",
        "print(f\"✅ 使用字體：{FONT_PATH}\")"
      ],
      "metadata": {
        "colab": {
          "base_uri": "https://localhost:8080/"
        },
        "id": "BvXjG1x5wmRm",
        "outputId": "bd583210-8a1c-4e4f-b0e9-058685f83d72"
      },
      "execution_count": 6,
      "outputs": [
        {
          "output_type": "stream",
          "name": "stdout",
          "text": [
            "✅ 使用字體：/content/drive/MyDrive/shorts/font/NotoSansTC-VariableFont_wght.ttf\n"
          ]
        }
      ]
    },
    {
      "cell_type": "code",
      "source": [
        "# === 讀取 txt 每行為一張貼紙 ===\n",
        "def read_txt_lines(file_path):\n",
        "    with open(file_path, \"r\", encoding=\"utf-8\") as f:\n",
        "        return [line.strip() for line in f if line.strip()]"
      ],
      "metadata": {
        "id": "UP9w0DozwnQu"
      },
      "execution_count": 7,
      "outputs": []
    },
    {
      "cell_type": "code",
      "source": [
        "# === 產生單張貼紙（右上角文字）===\n",
        "def generate_single_text_png(text, idx):\n",
        "    img = Image.new(\"RGBA\", IMG_SIZE, (0, 0, 0, 0))\n",
        "    draw = ImageDraw.Draw(img)\n",
        "    font = ImageFont.truetype(FONT_PATH, FONT_SIZE)\n",
        "\n",
        "    # 取得文字寬高\n",
        "    bbox = draw.textbbox((0, 0), text, font=font)\n",
        "    text_width = bbox[2] - bbox[0]\n",
        "    text_height = bbox[3] - bbox[1]\n",
        "\n",
        "    # 右上角定位\n",
        "    x = IMG_SIZE[0] - IMG_SIZE[0] + RIGHT_MARGIN\n",
        "    y = TOP_OFFSET\n",
        "\n",
        "    draw.text((x, y), text, font=font, fill=(0, 255, 255, 255))\n",
        "\n",
        "    output_path = os.path.join(OUTPUT_DIR, f\"text_{idx}.png\")\n",
        "    img.save(output_path)"
      ],
      "metadata": {
        "id": "ENQxvjtuwoqW"
      },
      "execution_count": 8,
      "outputs": []
    },
    {
      "cell_type": "code",
      "source": [
        "# === 主流程 ===\n",
        "txt_path = \"/content/drive/MyDrive/shorts/Questions_txt/question.txt\"  # 先上傳你的 input.txt\n",
        "lines = read_txt_lines(txt_path)\n",
        "\n",
        "for i, line in enumerate(lines):\n",
        "    generate_single_text_png(line, i)\n",
        "\n",
        "print(f\"✅ 完成，共輸出 {len(lines)} 張貼紙 PNG 至：{OUTPUT_DIR}\")"
      ],
      "metadata": {
        "colab": {
          "base_uri": "https://localhost:8080/"
        },
        "id": "yt96U-sGwqCO",
        "outputId": "c4fbdf5d-4173-4383-adf2-73aaa3d425ed"
      },
      "execution_count": 9,
      "outputs": [
        {
          "output_type": "stream",
          "name": "stdout",
          "text": [
            "✅ 完成，共輸出 3 張貼紙 PNG 至：/content/drive/MyDrive/shorts/Text_Overlayers\n"
          ]
        }
      ]
    }
  ]
}