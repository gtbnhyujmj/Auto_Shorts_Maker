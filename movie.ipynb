{
  "nbformat": 4,
  "nbformat_minor": 0,
  "metadata": {
    "colab": {
      "provenance": [],
      "mount_file_id": "1cWxXe9G78fn-bxdxJjG6Ozt6JMqKMnoD",
      "authorship_tag": "ABX9TyPABNFxRwFf3Kn+wDrrLe/U",
      "include_colab_link": true
    },
    "kernelspec": {
      "name": "python3",
      "display_name": "Python 3"
    },
    "language_info": {
      "name": "python"
    }
  },
  "cells": [
    {
      "cell_type": "markdown",
      "metadata": {
        "id": "view-in-github",
        "colab_type": "text"
      },
      "source": [
        "<a href=\"https://colab.research.google.com/github/gtbnhyujmj/Auto_Shorts_Maker/blob/main/movie.ipynb\" target=\"_parent\"><img src=\"https://colab.research.google.com/assets/colab-badge.svg\" alt=\"Open In Colab\"/></a>"
      ]
    },
    {
      "cell_type": "code",
      "execution_count": 78,
      "metadata": {
        "id": "Bvlu0oZpZbdQ"
      },
      "outputs": [],
      "source": [
        "# 安裝所需套件\n",
        "# !pip install moviepy opencv-python-headless --quiet"
      ]
    },
    {
      "cell_type": "code",
      "source": [
        "import cv2\n",
        "import os\n",
        "import numpy as np\n",
        "from moviepy.editor import VideoFileClip, ImageSequenceClip\n",
        "from PIL import Image"
      ],
      "metadata": {
        "id": "ofTpDMymwNnO"
      },
      "execution_count": 79,
      "outputs": []
    },
    {
      "cell_type": "markdown",
      "source": [
        "# 設定資料夾路徑"
      ],
      "metadata": {
        "id": "wWyJWy0ZwPU8"
      }
    },
    {
      "cell_type": "code",
      "source": [
        "# In Google Drive\n",
        "\n",
        "bg_folder = \"/content/drive/MyDrive/shorts/backgrounds_MP4\"\n",
        "char_folder = \"/content/drive/MyDrive/shorts/characters\"\n",
        "overlay_folder = \"/content/drive/MyDrive/shorts/overlays\""
      ],
      "metadata": {
        "id": "HQHXnliPwR2V"
      },
      "execution_count": 80,
      "outputs": []
    },
    {
      "cell_type": "markdown",
      "source": [
        "# 載入人物與上層圖案"
      ],
      "metadata": {
        "id": "gcK04WU3wwdM"
      }
    },
    {
      "cell_type": "code",
      "source": [
        "char_img = cv2.imread(os.path.join(char_folder, \"char1.png\"), cv2.IMREAD_UNCHANGED)\n",
        "overlay_img = cv2.imread(os.path.join(overlay_folder, \"top_icon.png\"), cv2.IMREAD_UNCHANGED)"
      ],
      "metadata": {
        "id": "SYmYwxIVwyks"
      },
      "execution_count": 81,
      "outputs": []
    },
    {
      "cell_type": "markdown",
      "source": [
        "# 工具函數：將 PNG 貼到背景圖（支援透明度）"
      ],
      "metadata": {
        "id": "BARJ92TPw2v8"
      }
    },
    {
      "cell_type": "code",
      "source": [
        "def overlay_image(background, overlay, position):\n",
        "    x, y = position\n",
        "    bh, bw = background.shape[:2]\n",
        "    oh, ow = overlay.shape[:2]\n",
        "\n",
        "    # 範圍裁切處理\n",
        "    if x < 0:\n",
        "        overlay = overlay[:, -x:]\n",
        "        ow = overlay.shape[1]\n",
        "        x = 0\n",
        "    if y < 0:\n",
        "        overlay = overlay[-y:, :]\n",
        "        oh = overlay.shape[0]\n",
        "        y = 0\n",
        "    if x + ow > bw:\n",
        "        ow = bw - x\n",
        "        overlay = overlay[:, :ow]\n",
        "    if y + oh > bh:\n",
        "        oh = bh - y\n",
        "        overlay = overlay[:oh, :]\n",
        "\n",
        "    if overlay.shape[2] == 4:\n",
        "        alpha = overlay[:, :, 3] / 255.0\n",
        "        alpha = np.stack([alpha]*3, axis=-1)\n",
        "        foreground = overlay[:, :, :3].astype(np.float32)\n",
        "        background_crop = background[y:y+oh, x:x+ow].astype(np.float32)\n",
        "        blended = alpha * foreground + (1 - alpha) * background_crop\n",
        "        background[y:y+oh, x:x+ow] = blended.astype(np.uint8)\n",
        "    else:\n",
        "        background[y:y+oh, x:x+ow] = overlay[:, :, :3]\n",
        "\n",
        "    return background"
      ],
      "metadata": {
        "id": "x4_vdJSexNvs"
      },
      "execution_count": 82,
      "outputs": []
    },
    {
      "cell_type": "markdown",
      "source": [
        "# 定義合成函數"
      ],
      "metadata": {
        "id": "s57DveMWxQ1t"
      }
    },
    {
      "cell_type": "code",
      "source": [
        "def compose_frame(bg_frame, char_img, overlay_img, char_offset_ratio):\n",
        "    h, w = bg_frame.shape[:2]  # 影片或背景的大小，應該是 1920 高\n",
        "\n",
        "    output = bg_frame.copy()\n",
        "\n",
        "    # === ⬇️ 處理人物圖像（高度變成和背景一樣高） ===\n",
        "    char_scale_ratio = float(h) / char_img.shape[0]\n",
        "    new_char_width = int(char_img.shape[1] * char_scale_ratio)\n",
        "    char_resized = cv2.resize(char_img, (new_char_width, h))  # 高度 = 1920\n",
        "\n",
        "    # 人物 x, y 位置（中間 + offset）\n",
        "    char_x = (w - new_char_width) // 2\n",
        "    char_y = int(h * char_offset_ratio)  # 可為正（往下）或負（往上）\n",
        "\n",
        "    output = overlay_image(output, char_resized, (char_x, char_y))\n",
        "\n",
        "    # === ⬇️ 處理上方 overlay 圖像（高度 = 1920） ===\n",
        "    overlay_scale_ratio = float(h) / overlay_img.shape[0]\n",
        "    new_overlay_width = int(overlay_img.shape[1] * overlay_scale_ratio)\n",
        "    overlay_resized = cv2.resize(overlay_img, (new_overlay_width, h))\n",
        "\n",
        "    # overlay 固定放中軸下方約 33%\n",
        "    overlay_x = (w - new_overlay_width) // 2\n",
        "    overlay_y = int(h * 0.75)\n",
        "\n",
        "    output = overlay_image(output, overlay_resized, (overlay_x, overlay_y))\n",
        "\n",
        "    return output"
      ],
      "metadata": {
        "id": "pQ2Dh3H1xSuc"
      },
      "execution_count": 83,
      "outputs": []
    },
    {
      "cell_type": "markdown",
      "source": [
        "# 合成主程式"
      ],
      "metadata": {
        "id": "p0Mrika8xX-s"
      }
    },
    {
      "cell_type": "code",
      "source": [
        "bg_file = os.path.join(bg_folder, \"bg1.mp4\")  # 或 bg1.png\n",
        "is_video = bg_file.endswith(\".mp4\")\n",
        "\n",
        "output_path = \"/content/output.mp4\" if is_video else \"/content/output.png\"\n",
        "\n",
        "if is_video:\n",
        "    clip = VideoFileClip(bg_file)\n",
        "    output_frames = []\n",
        "    for frame in clip.iter_frames():\n",
        "        frame_bgr = cv2.cvtColor(frame, cv2.COLOR_RGB2BGR)\n",
        "        composed = compose_frame(frame_bgr, char_img, overlay_img, char_offset_ratio=0.0)\n",
        "        output_frames.append(cv2.cvtColor(composed, cv2.COLOR_BGR2RGB))\n",
        "    out_clip = ImageSequenceClip(output_frames, fps=clip.fps)\n",
        "    out_clip.write_videofile(output_path, codec=\"libx264\")\n",
        "else:\n",
        "    bg_img = cv2.imread(bg_file)\n",
        "    composed = compose_frame(bg_img, char_img, overlay_img, char_offset_y=0.0)\n",
        "    cv2.imwrite(output_path, composed)\n",
        "\n",
        "print(f\"合成完成！輸出檔案：{output_path}\")"
      ],
      "metadata": {
        "colab": {
          "base_uri": "https://localhost:8080/"
        },
        "id": "do25O9rxxZkD",
        "outputId": "94d6f4f5-45ac-4136-8407-a1eeabe2b925"
      },
      "execution_count": 84,
      "outputs": [
        {
          "output_type": "stream",
          "name": "stdout",
          "text": [
            "Moviepy - Building video /content/output.mp4.\n",
            "Moviepy - Writing video /content/output.mp4\n",
            "\n"
          ]
        },
        {
          "output_type": "stream",
          "name": "stderr",
          "text": []
        },
        {
          "output_type": "stream",
          "name": "stdout",
          "text": [
            "Moviepy - Done !\n",
            "Moviepy - video ready /content/output.mp4\n",
            "合成完成！輸出檔案：/content/output.mp4\n"
          ]
        }
      ]
    },
    {
      "cell_type": "markdown",
      "source": [
        "# 下次要建立啥?"
      ],
      "metadata": {
        "id": "IMXnOd2Q793_"
      }
    },
    {
      "cell_type": "code",
      "source": [
        "# 建立素材在資料夾裡面的 \"隨機 shaffule\"\n",
        "# 圖片高度可能不必1920，人物的圖案有點太大。"
      ],
      "metadata": {
        "id": "QQTOJPk279F_"
      },
      "execution_count": 86,
      "outputs": []
    },
    {
      "cell_type": "code",
      "source": [
        "# STU, 2025/05/21"
      ],
      "metadata": {
        "id": "byHol6fd8Go-"
      },
      "execution_count": 87,
      "outputs": []
    }
  ]
}