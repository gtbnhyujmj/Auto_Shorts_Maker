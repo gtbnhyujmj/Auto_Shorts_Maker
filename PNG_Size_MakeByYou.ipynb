{
  "nbformat": 4,
  "nbformat_minor": 0,
  "metadata": {
    "colab": {
      "provenance": [],
      "authorship_tag": "ABX9TyNjK1I+o32Jo2W4og0e35m8",
      "include_colab_link": true
    },
    "kernelspec": {
      "name": "python3",
      "display_name": "Python 3"
    },
    "language_info": {
      "name": "python"
    }
  },
  "cells": [
    {
      "cell_type": "markdown",
      "metadata": {
        "id": "view-in-github",
        "colab_type": "text"
      },
      "source": [
        "<a href=\"https://colab.research.google.com/github/gtbnhyujmj/Auto_Shorts_Maker/blob/PNG_MakeByYou/PNG_Size_MakeByYou.ipynb\" target=\"_parent\"><img src=\"https://colab.research.google.com/assets/colab-badge.svg\" alt=\"Open In Colab\"/></a>"
      ]
    },
    {
      "cell_type": "code",
      "source": [
        "!apt-get -y install ffmpeg\n",
        "!pip install --quiet pillow opencv-python"
      ],
      "metadata": {
        "colab": {
          "base_uri": "https://localhost:8080/"
        },
        "collapsed": true,
        "id": "xgbEKNCLchBd",
        "outputId": "ed66564c-6e15-40f0-c206-e1b63a6f4cf1"
      },
      "execution_count": 22,
      "outputs": [
        {
          "output_type": "stream",
          "name": "stdout",
          "text": [
            "Reading package lists... Done\n",
            "Building dependency tree... Done\n",
            "Reading state information... Done\n",
            "ffmpeg is already the newest version (7:4.4.2-0ubuntu0.22.04.1).\n",
            "0 upgraded, 0 newly installed, 0 to remove and 34 not upgraded.\n"
          ]
        }
      ]
    },
    {
      "cell_type": "markdown",
      "source": [
        "# 接入雲端硬碟"
      ],
      "metadata": {
        "id": "bLEEX-1io4D0"
      }
    },
    {
      "cell_type": "code",
      "source": [
        "from google.colab import drive\n",
        "drive.mount('/content/drive')"
      ],
      "metadata": {
        "colab": {
          "base_uri": "https://localhost:8080/"
        },
        "id": "jBnAYDldcUv8",
        "outputId": "9b152e7f-b701-4382-b00f-ba1b12c2e7d1"
      },
      "execution_count": 23,
      "outputs": [
        {
          "output_type": "stream",
          "name": "stdout",
          "text": [
            "Drive already mounted at /content/drive; to attempt to forcibly remount, call drive.mount(\"/content/drive\", force_remount=True).\n"
          ]
        }
      ]
    },
    {
      "cell_type": "markdown",
      "source": [
        "# (def) 創造出透明背景的PNG檔，上面要壓印文字。"
      ],
      "metadata": {
        "id": "TqgXxVDoo-6D"
      }
    },
    {
      "cell_type": "code",
      "execution_count": 24,
      "metadata": {
        "id": "4wUbEAC6b7Hk"
      },
      "outputs": [],
      "source": [
        "# 可以設定 font_size=128\n",
        "# 整個PNG檔大小 image_size=(1080, 1920)\n",
        "# 文字顏色 -> draw.text((x, y), text, font=font, fill=(0, 0, 0, 255))  # 黑字\n",
        "\n",
        "def create_text_image(text, font_size=128, image_size=(1080, 1920), align='center', output_path=\"/content/text_overlay.png\"):\n",
        "    # 字體載入（NotoSansTC-VariableFont_wght.ttf 可以輸出中文）\n",
        "    font_path = \"/content/drive/MyDrive/shorts/font/NotoSansTC-VariableFont_wght.ttf\"\n",
        "    font = ImageFont.truetype(font_path, font_size)\n",
        "\n",
        "    img = Image.new('RGBA', image_size, (0, 0, 0, 0))  # 透明背景\n",
        "    draw = ImageDraw.Draw(img)\n",
        "\n",
        "    # 計算文字寬高\n",
        "    bbox = draw.textbbox((0, 0), text, font=font)\n",
        "    text_width = bbox[2] - bbox[0]\n",
        "    text_height = bbox[3] - bbox[1]\n",
        "\n",
        "    # 位置：置左 / 置中 / 置右\n",
        "    if align == 'left':\n",
        "        x = 20\n",
        "    elif align == 'center':\n",
        "        x = (image_size[0] - text_width) // 2\n",
        "    else:  # right\n",
        "        x = image_size[0] - text_width - 20\n",
        "\n",
        "    y = (image_size[1] - text_height) // 2\n",
        "    draw.text((x, y), text, font=font, fill=(0, 0, 0, 255))  # 黑字\n",
        "\n",
        "    img.save(output_path)\n",
        "    print(f\"✅ PNG 文字圖片已儲存至 {output_path}\")"
      ]
    },
    {
      "cell_type": "markdown",
      "source": [
        "# 把透明背景的PNG讀出來，黏貼到MP4檔上面"
      ],
      "metadata": {
        "id": "0qP6U_B9pq58"
      }
    },
    {
      "cell_type": "code",
      "source": [
        "import cv2\n",
        "import numpy as np\n",
        "\n",
        "# 黏貼參考點 = position=(0, 0) = 右上角\n",
        "\n",
        "def overlay_png_on_video(video_path, png_path, output_path, position=(0, 0)):\n",
        "    cap = cv2.VideoCapture(video_path)\n",
        "    fourcc = cv2.VideoWriter_fourcc(*'mp4v')\n",
        "    fps = cap.get(cv2.CAP_PROP_FPS)\n",
        "    w = int(cap.get(cv2.CAP_PROP_FRAME_WIDTH))\n",
        "    h = int(cap.get(cv2.CAP_PROP_FRAME_HEIGHT))\n",
        "    out = cv2.VideoWriter(output_path, fourcc, fps, (w, h))\n",
        "\n",
        "    # 讀取 PNG 圖片 (RGBA)\n",
        "    overlay = cv2.imread(png_path, cv2.IMREAD_UNCHANGED)\n",
        "\n",
        "    while True:\n",
        "        ret, frame = cap.read()\n",
        "        if not ret:\n",
        "            break\n",
        "\n",
        "        overlay_resized = cv2.resize(overlay, (overlay.shape[1], overlay.shape[0]))\n",
        "        x, y = position\n",
        "        h_, w_, _ = overlay_resized.shape\n",
        "\n",
        "        if x + w_ > w or y + h_ > h:\n",
        "            print(\"⚠️ 文字超出畫面邊界\")\n",
        "            break\n",
        "\n",
        "        # 將 overlay RGBA 拆成 BGR + Alpha\n",
        "        b, g, r, a = cv2.split(overlay_resized)\n",
        "        overlay_rgb = cv2.merge((b, g, r))\n",
        "        mask = cv2.merge((a, a, a)) / 255.0\n",
        "\n",
        "        roi = frame[y:y+h_, x:x+w_]\n",
        "        blended = (1 - mask) * roi + mask * overlay_rgb\n",
        "        frame[y:y+h_, x:x+w_] = blended.astype(np.uint8)\n",
        "\n",
        "        out.write(frame)\n",
        "\n",
        "    cap.release()\n",
        "    out.release()\n",
        "    print(f\"✅ 輸出完成: {output_path}\")"
      ],
      "metadata": {
        "id": "PJg_rsP2b8yl"
      },
      "execution_count": 25,
      "outputs": []
    },
    {
      "cell_type": "markdown",
      "source": [
        "# 執行區"
      ],
      "metadata": {
        "id": "MvBt0Rgpqky8"
      }
    },
    {
      "cell_type": "code",
      "source": [
        "# 文字生成 PNG\n",
        "create_text_image(\"我愛你\", align='center')"
      ],
      "metadata": {
        "colab": {
          "base_uri": "https://localhost:8080/"
        },
        "id": "XohW5pa8dEC0",
        "outputId": "d3eb199d-c62a-44b4-85b6-4ee84704b455"
      },
      "execution_count": 26,
      "outputs": [
        {
          "output_type": "stream",
          "name": "stdout",
          "text": [
            "✅ PNG 文字圖片已儲存至 /content/text_overlay.png\n"
          ]
        }
      ]
    },
    {
      "cell_type": "code",
      "source": [
        "# 貼到影片上\n",
        "# 黏貼參考點 = position=(0, 0) = 右上角\n",
        "\n",
        "video_path = \"/content/drive/MyDrive/shorts/movie01/output.mp4\"\n",
        "output_video = \"/content/output_final.mp4\"\n",
        "\n",
        "overlay_png_on_video(video_path, \"/content/text_overlay.png\", output_video, position=(0, 0))"
      ],
      "metadata": {
        "colab": {
          "base_uri": "https://localhost:8080/"
        },
        "id": "B_aws3V3dIeE",
        "outputId": "c0aac102-335f-405e-9603-b8d7a1deed62"
      },
      "execution_count": 27,
      "outputs": [
        {
          "output_type": "stream",
          "name": "stdout",
          "text": [
            "✅ 輸出完成: /content/output_final.mp4\n"
          ]
        }
      ]
    },
    {
      "cell_type": "markdown",
      "source": [
        "# 檢討"
      ],
      "metadata": {
        "id": "MuIS29BArNHT"
      }
    },
    {
      "cell_type": "code",
      "source": [
        "# 在素材準備階段就直接，透明背景, 1080x1920, 整個程式會好寫個十倍。\n",
        "# 直接當成貼透明貼紙 = 圖層，整個影片會更簡單製作。\n",
        "# 這個做法直接丟去Git的分支，不處理了。"
      ],
      "metadata": {
        "id": "64-EObJSrOc7"
      },
      "execution_count": null,
      "outputs": []
    },
    {
      "cell_type": "code",
      "source": [
        "# STU"
      ],
      "metadata": {
        "id": "eiymliiVrnH7"
      },
      "execution_count": null,
      "outputs": []
    }
  ]
}