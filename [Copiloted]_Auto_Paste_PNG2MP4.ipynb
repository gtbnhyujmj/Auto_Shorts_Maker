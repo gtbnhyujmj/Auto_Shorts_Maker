{
  "nbformat": 4,
  "nbformat_minor": 0,
  "metadata": {
    "colab": {
      "provenance": [],
      "mount_file_id": "1eeoR9YbAq2ryNY1enuH_Gdh4ZIRekObK",
      "authorship_tag": "ABX9TyOd9DEgN/C1uP0BK0QtaPeW",
      "include_colab_link": true
    },
    "kernelspec": {
      "name": "python3",
      "display_name": "Python 3"
    },
    "language_info": {
      "name": "python"
    }
  },
  "cells": [
    {
      "cell_type": "markdown",
      "metadata": {
        "id": "view-in-github",
        "colab_type": "text"
      },
      "source": [
        "<a href=\"https://colab.research.google.com/github/gtbnhyujmj/Auto_Shorts_Maker/blob/main/%5BCopiloted%5D_Auto_Paste_PNG2MP4.ipynb\" target=\"_parent\"><img src=\"https://colab.research.google.com/assets/colab-badge.svg\" alt=\"Open In Colab\"/></a>"
      ]
    },
    {
      "cell_type": "code",
      "execution_count": 1,
      "metadata": {
        "id": "9mafX8hOTGjG"
      },
      "outputs": [],
      "source": [
        "# 匯入必要的套件\n",
        "import cv2  # OpenCV：處理影片讀寫\n",
        "from PIL import Image  # Pillow：處理 PNG 圖片，支援透明度\n",
        "import numpy as np  # 處理陣列資料，影像格式轉換用"
      ]
    },
    {
      "cell_type": "code",
      "source": [
        "def blend_with_alpha_fast(base_img, overlay_imgs):\n",
        "\n",
        "    \"\"\"\n",
        "    將多個 overlay PNG 疊在 base_img 上，且利用 numpy 直接處理透明通道以加速運算\n",
        "    base_img: OpenCV BGR 格式的單張影片幀\n",
        "    overlay_imgs: 已經 resize 好的 PIL.Image 物件列表\n",
        "    回傳：BGR 格式 numpy array，已完成合成\n",
        "    \"\"\"\n",
        "\n",
        "    # 將 base_img 轉成 RGBA（支援透明度）\n",
        "    base_rgba = cv2.cvtColor(base_img, cv2.COLOR_BGR2RGBA)  # 直接轉成 RGBA 格式\n",
        "\n",
        "    for overlay in overlay_imgs:\n",
        "        # 確認 overlay 也是 RGBA 格式\n",
        "        overlay_rgba = np.array(overlay.convert('RGBA'))\n",
        "        # 計算 alpha 遮罩：overlay alpha / 255.0\n",
        "        alpha_overlay = overlay_rgba[..., 3:] / 255.0  # 取得 overlay 的 alpha 通道，並正規化\n",
        "        alpha_base = base_rgba[..., 3:] / 255.0  # 取得 base 的 alpha 通道，並正規化\n",
        "        # 新的 alpha 通道：overlay 疊加在原本的 alpha 上\n",
        "        out_alpha = alpha_overlay + alpha_base * (1 - alpha_overlay)\n",
        "        # RGB 通道做加權混合\n",
        "        base_rgba[..., :3] = (overlay_rgba[..., :3] * alpha_overlay + base_rgba[..., :3] * alpha_base * (1 - alpha_overlay)) / (out_alpha + 1e-6)\n",
        "        # 更新 alpha 通道\n",
        "        base_rgba[..., 3:] = out_alpha * 255\n",
        "\n",
        "    # 轉回 BGR（OpenCV 標準格式），丟棄 alpha 通道\n",
        "    result_bgr = cv2.cvtColor(base_rgba, cv2.COLOR_RGBA2BGR)\n",
        "    return result_bgr"
      ],
      "metadata": {
        "id": "WOMMcu0lTLY5"
      },
      "execution_count": 2,
      "outputs": []
    },
    {
      "cell_type": "code",
      "source": [
        "def overlay_multiple_pngs_on_video_fast(video_path, overlay_paths, output_path='output.mp4'):\n",
        "\n",
        "    \"\"\"\n",
        "    將多張 PNG 疊在 MP4 影片每一幀上，提升速度（numpy 批次運算，減少 PIL 轉換次數）\n",
        "    video_path: 輸入影片路徑\n",
        "    overlay_paths: PNG 圖片路徑列表\n",
        "    output_path: 輸出影片路徑\n",
        "    \"\"\"\n",
        "\n",
        "    cap = cv2.VideoCapture(video_path)  # 開啟影片檔案\n",
        "\n",
        "    fps = int(cap.get(cv2.CAP_PROP_FPS))  # 取得影片每秒幀數\n",
        "    width = int(cap.get(cv2.CAP_PROP_FRAME_WIDTH))  # 取得影片寬度\n",
        "    height = int(cap.get(cv2.CAP_PROP_FRAME_HEIGHT))  # 取得影片高度\n",
        "\n",
        "    fourcc = cv2.VideoWriter_fourcc(*'mp4v')  # 指定影片格式\n",
        "    out = cv2.VideoWriter(output_path, fourcc, fps, (width, height))  # 建立影片寫出物件\n",
        "\n",
        "    # 讀入所有 PNG，resize 成和影片一樣大，加速後續批次處理\n",
        "    overlay_images = [Image.open(path).resize((width, height), Image.LANCZOS) for path in overlay_paths]  # LANCZOS 品質較佳\n",
        "\n",
        "    frame_idx = 0  # 幀數計數器\n",
        "    while True:\n",
        "        ret, frame = cap.read()  # 讀取一幀\n",
        "        if not ret:  # 沒有更多幀時跳出\n",
        "            break\n",
        "\n",
        "        # 疊加所有 overlay PNG（批次 numpy 運算法）\n",
        "        result_frame = blend_with_alpha_fast(frame, overlay_images)  # 直接傳入 PIL.Image 物件列表\n",
        "        out.write(result_frame)  # 寫入輸出影片\n",
        "        frame_idx += 1  # 幀數加一\n",
        "\n",
        "    cap.release()  # 釋放影片讀取資源\n",
        "    out.release()  # 釋放影片寫入資源\n",
        "    print(f\"影片儲存至：{output_path}\")  # 完成訊息"
      ],
      "metadata": {
        "id": "6HYdr57bTPvI"
      },
      "execution_count": 3,
      "outputs": []
    },
    {
      "cell_type": "code",
      "source": [
        "# ====== 執行參數區 ======"
      ],
      "metadata": {
        "id": "R8eCCt5aTRFg"
      },
      "execution_count": 4,
      "outputs": []
    },
    {
      "cell_type": "code",
      "source": [
        "if __name__ == \"__main__\":\n",
        "    # 設定輸入影片路徑\n",
        "    video_path = '/content/final_output5.mp4'\n",
        "\n",
        "    # 設定 PNG 疊圖的路徑\n",
        "    overlay_paths = [\n",
        "        '/content/drive/MyDrive/shorts/characters/char3.png',\n",
        "        '/content/drive/MyDrive/shorts/PNG_Overlayers/OverLayers1.png',\n",
        "        # 你可以加入更多 PNG 圖片路徑\n",
        "    ]\n",
        "\n",
        "    # 執行主函式，將 PNG 疊在影片每一幀上\n",
        "    overlay_multiple_pngs_on_video_fast(video_path, overlay_paths, output_path='final_output.mp4')"
      ],
      "metadata": {
        "colab": {
          "base_uri": "https://localhost:8080/"
        },
        "id": "TkKsMTiMTUsx",
        "outputId": "202435a7-07e4-44c5-993f-d2483f49878d"
      },
      "execution_count": 8,
      "outputs": [
        {
          "output_type": "stream",
          "name": "stdout",
          "text": [
            "影片儲存至：final_output.mp4\n"
          ]
        }
      ]
    },
    {
      "cell_type": "code",
      "source": [
        "# STU"
      ],
      "metadata": {
        "id": "LgDnx9wsTykx"
      },
      "execution_count": 7,
      "outputs": []
    }
  ]
}