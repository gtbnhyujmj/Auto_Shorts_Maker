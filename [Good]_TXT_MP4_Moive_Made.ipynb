{
  "nbformat": 4,
  "nbformat_minor": 0,
  "metadata": {
    "colab": {
      "provenance": [],
      "mount_file_id": "1omMUH04VvLQo-Wn4DHcCBLsCJ9dv3z7a",
      "authorship_tag": "ABX9TyMdiegLdE85buSIBrnv7L/b",
      "include_colab_link": true
    },
    "kernelspec": {
      "name": "python3",
      "display_name": "Python 3"
    },
    "language_info": {
      "name": "python"
    }
  },
  "cells": [
    {
      "cell_type": "markdown",
      "metadata": {
        "id": "view-in-github",
        "colab_type": "text"
      },
      "source": [
        "<a href=\"https://colab.research.google.com/github/gtbnhyujmj/Auto_Shorts_Maker/blob/main/%5BGood%5D_TXT_MP4_Moive_Made.ipynb\" target=\"_parent\"><img src=\"https://colab.research.google.com/assets/colab-badge.svg\" alt=\"Open In Colab\"/></a>"
      ]
    },
    {
      "cell_type": "markdown",
      "source": [
        "## 製作最底層的影片"
      ],
      "metadata": {
        "id": "vUn3awdy175U"
      }
    },
    {
      "cell_type": "code",
      "execution_count": 1,
      "metadata": {
        "id": "R3BrSWlk1RkY"
      },
      "outputs": [],
      "source": [
        "# 匯入必要的套件\n",
        "import cv2  # OpenCV：處理影片讀寫\n",
        "from PIL import Image  # Pillow：處理 PNG 圖片，支援透明度\n",
        "import numpy as np  # 處理陣列資料，影像格式轉換用"
      ]
    },
    {
      "cell_type": "markdown",
      "source": [
        "## 關掉 alpha channel 避免遇上透明度累積"
      ],
      "metadata": {
        "id": "RmLqMA7X2jnz"
      }
    },
    {
      "cell_type": "code",
      "source": [
        "def blend_with_alpha_fast(base_img, overlay_imgs):\n",
        "\n",
        "    \"\"\"\n",
        "    將多個 overlay PNG 疊在 base_img 上，且利用 numpy 直接處理透明通道以加速運算\n",
        "    base_img: OpenCV BGR 格式的單張影片幀\n",
        "    overlay_imgs: 已經 resize 好的 PIL.Image 物件列表\n",
        "    回傳：BGR 格式 numpy array，已完成合成\n",
        "    \"\"\"\n",
        "\n",
        "    # 將 base_img 轉成 RGBA（支援透明度）\n",
        "    base_rgba = cv2.cvtColor(base_img, cv2.COLOR_BGR2RGBA)  # 直接轉成 RGBA 格式\n",
        "\n",
        "    for overlay in overlay_imgs:\n",
        "        # 確認 overlay 也是 RGBA 格式\n",
        "        overlay_rgba = np.array(overlay.convert('RGBA'))\n",
        "        # 計算 alpha 遮罩：overlay alpha / 255.0\n",
        "        alpha_overlay = overlay_rgba[..., 3:] / 255.0  # 取得 overlay 的 alpha 通道，並正規化\n",
        "        alpha_base = base_rgba[..., 3:] / 255.0  # 取得 base 的 alpha 通道，並正規化\n",
        "        # 新的 alpha 通道：overlay 疊加在原本的 alpha 上\n",
        "        out_alpha = alpha_overlay + alpha_base * (1 - alpha_overlay)\n",
        "        # RGB 通道做加權混合\n",
        "        base_rgba[..., :3] = (overlay_rgba[..., :3] * alpha_overlay + base_rgba[..., :3] * alpha_base * (1 - alpha_overlay)) / (out_alpha + 1e-6)\n",
        "        # 更新 alpha 通道\n",
        "        base_rgba[..., 3:] = out_alpha * 255\n",
        "\n",
        "    # 轉回 BGR（OpenCV 標準格式），丟棄 alpha 通道\n",
        "    result_bgr = cv2.cvtColor(base_rgba, cv2.COLOR_RGBA2BGR)\n",
        "    return result_bgr"
      ],
      "metadata": {
        "id": "Lkz8CHZ02hVU"
      },
      "execution_count": 2,
      "outputs": []
    },
    {
      "cell_type": "markdown",
      "source": [
        "## 核心：把PNG黏到MP4上面"
      ],
      "metadata": {
        "id": "h1knjjR651li"
      }
    },
    {
      "cell_type": "code",
      "source": [
        "def overlay_multiple_pngs_on_video_fast(video_path, overlay_paths, output_path='output.mp4'):\n",
        "\n",
        "    \"\"\"\n",
        "    將多張 PNG 疊在 MP4 影片每一幀上，提升速度（numpy 批次運算，減少 PIL 轉換次數）\n",
        "    video_path: 輸入影片路徑\n",
        "    overlay_paths: PNG 圖片路徑列表\n",
        "    output_path: 輸出影片路徑\n",
        "    \"\"\"\n",
        "\n",
        "    cap = cv2.VideoCapture(video_path)  # 開啟影片檔案\n",
        "\n",
        "    fps = int(cap.get(cv2.CAP_PROP_FPS))  # 取得影片每秒幀數\n",
        "    width = int(cap.get(cv2.CAP_PROP_FRAME_WIDTH))  # 取得影片寬度\n",
        "    height = int(cap.get(cv2.CAP_PROP_FRAME_HEIGHT))  # 取得影片高度\n",
        "\n",
        "    fourcc = cv2.VideoWriter_fourcc(*'mp4v')  # 指定影片格式\n",
        "    out = cv2.VideoWriter(output_path, fourcc, fps, (width, height))  # 建立影片寫出物件\n",
        "\n",
        "    # 讀入所有 PNG，resize 成和影片一樣大，加速後續批次處理\n",
        "    overlay_images = [Image.open(path).resize((width, height), Image.LANCZOS) for path in overlay_paths]  # LANCZOS 品質較佳\n",
        "\n",
        "    frame_idx = 0  # 幀數計數器\n",
        "    while True:\n",
        "        ret, frame = cap.read()  # 讀取一幀\n",
        "        if not ret:  # 沒有更多幀時跳出\n",
        "            break\n",
        "\n",
        "        # 疊加所有 overlay PNG（批次 numpy 運算法）\n",
        "        result_frame = blend_with_alpha_fast(frame, overlay_images)  # 直接傳入 PIL.Image 物件列表\n",
        "        out.write(result_frame)  # 寫入輸出影片\n",
        "        frame_idx += 1  # 幀數加一\n",
        "\n",
        "    cap.release()  # 釋放影片讀取資源\n",
        "    out.release()  # 釋放影片寫入資源\n",
        "    print(f\"影片儲存至：{output_path}\")  # 完成訊息"
      ],
      "metadata": {
        "id": "c1bPhgTX26JU"
      },
      "execution_count": 3,
      "outputs": []
    },
    {
      "cell_type": "markdown",
      "source": [
        "## 搞文字貼紙"
      ],
      "metadata": {
        "id": "xgdnfPqd29Kz"
      }
    },
    {
      "cell_type": "code",
      "source": [
        "from PIL import Image, ImageDraw, ImageFont\n",
        "import os"
      ],
      "metadata": {
        "id": "XL0b5z_X28gz"
      },
      "execution_count": 4,
      "outputs": []
    },
    {
      "cell_type": "code",
      "source": [
        "# === 設定 ===\n",
        "IMG_SIZE = (1080, 1920)\n",
        "FONT_SIZE = 100\n",
        "\n",
        "# 控制文字位置\n",
        "TOP_OFFSET = 150      # 從頂部下來的位置\n",
        "RIGHT_MARGIN = 60     # 右邊留白，避免太靠邊\n",
        "\n",
        "# 存檔位置 # 以後移去下方的主程式區\n",
        "OUTPUT_DIR = \"/content/drive/MyDrive/shorts/Text_Overlayers\"\n",
        "os.makedirs(OUTPUT_DIR, exist_ok=True)"
      ],
      "metadata": {
        "id": "CL6p6ymJ3Di8"
      },
      "execution_count": 5,
      "outputs": []
    },
    {
      "cell_type": "code",
      "source": [
        "# === 自動尋找一個可用字體（支援中英）\n",
        "import matplotlib.font_manager as fm\n",
        "font_list = fm.findSystemFonts(fontpaths=['/content/drive/MyDrive/shorts/font', '/content/drive/MyDrive/shorts/fonts'])\n",
        "FONT_PATH = next((f for f in font_list if \"DejaVuSans-Bold.ttf\" in f), font_list[0])\n",
        "print(f\"✅ 使用字體：{FONT_PATH}\")"
      ],
      "metadata": {
        "colab": {
          "base_uri": "https://localhost:8080/"
        },
        "id": "AoaOfSSG3QfE",
        "outputId": "81127ece-a491-427a-e1be-4b2b7d1444e5"
      },
      "execution_count": 6,
      "outputs": [
        {
          "output_type": "stream",
          "name": "stdout",
          "text": [
            "✅ 使用字體：/content/drive/MyDrive/shorts/font/NotoSansTC-VariableFont_wght.ttf\n"
          ]
        }
      ]
    },
    {
      "cell_type": "code",
      "source": [
        "# === 讀取 txt 每行為一張貼紙 ===\n",
        "def read_txt_lines(file_path):\n",
        "    with open(file_path, \"r\", encoding=\"utf-8\") as f:\n",
        "        return [line.strip() for line in f if line.strip()]"
      ],
      "metadata": {
        "id": "F1pHSGJh3SI1"
      },
      "execution_count": 7,
      "outputs": []
    },
    {
      "cell_type": "code",
      "source": [
        "# === 產生單張貼紙（右上角文字）===\n",
        "def generate_single_text_png(text, idx):\n",
        "    img = Image.new(\"RGBA\", IMG_SIZE, (0, 0, 0, 0))\n",
        "    draw = ImageDraw.Draw(img)\n",
        "    font = ImageFont.truetype(FONT_PATH, FONT_SIZE)\n",
        "\n",
        "    # 取得文字寬高\n",
        "    bbox = draw.textbbox((0, 0), text, font=font)\n",
        "    text_width = bbox[2] - bbox[0]\n",
        "    text_height = bbox[3] - bbox[1]\n",
        "\n",
        "    # 右上角定位 位置要自己看影片計算\n",
        "    x = IMG_SIZE[0] - IMG_SIZE[0] + RIGHT_MARGIN\n",
        "    y = TOP_OFFSET\n",
        "\n",
        "    draw.text((x, y), text, font=font, fill=(0, 255, 255, 255))\n",
        "\n",
        "    output_path = os.path.join(OUTPUT_DIR, f\"text_{idx}.png\")\n",
        "    img.save(output_path)"
      ],
      "metadata": {
        "id": "yQGcXP-_3V1D"
      },
      "execution_count": 8,
      "outputs": []
    },
    {
      "cell_type": "markdown",
      "source": [
        "## [文字貼紙] 主流程"
      ],
      "metadata": {
        "id": "92CUQ0za3cLz"
      }
    },
    {
      "cell_type": "code",
      "source": [
        "# === 主流程 ===\n",
        "txt_path = \"/content/drive/MyDrive/shorts/Questions_txt/question.txt\"  # 先上傳你的 input.txt\n",
        "lines = read_txt_lines(txt_path)\n",
        "\n",
        "for i, line in enumerate(lines):\n",
        "    generate_single_text_png(line, i)\n",
        "\n",
        "print(f\"✅ 完成，共輸出 {len(lines)} 張貼紙 PNG 至：{OUTPUT_DIR}\")"
      ],
      "metadata": {
        "colab": {
          "base_uri": "https://localhost:8080/"
        },
        "id": "8PoyVaTt3aQD",
        "outputId": "4af82802-ad4b-4faf-e640-43c71109cdb2"
      },
      "execution_count": 9,
      "outputs": [
        {
          "output_type": "stream",
          "name": "stdout",
          "text": [
            "✅ 完成，共輸出 3 張貼紙 PNG 至：/content/drive/MyDrive/shorts/Text_Overlayers\n"
          ]
        }
      ]
    },
    {
      "cell_type": "markdown",
      "source": [
        "# [貼貼紙] >>> 輸入陣列這邊 <<<"
      ],
      "metadata": {
        "id": "__PdfOax3iG7"
      }
    },
    {
      "cell_type": "code",
      "source": [
        "if __name__ == \"__main__\":\n",
        "    # 設定輸入影片路徑\n",
        "    video_path = '/content/drive/MyDrive/shorts/backgrounds_MP4/bg1.mp4'\n",
        "\n",
        "    # 設定 PNG 疊圖的路徑\n",
        "    overlay_paths = [\n",
        "        '/content/drive/MyDrive/shorts/characters/char1.png',\n",
        "        '/content/drive/MyDrive/shorts/PNG_Overlayers/OverLayers5.png',\n",
        "        \"/content/drive/MyDrive/shorts/Text_Overlayers/text_0.png\",\n",
        "        # 你可以加入更多 PNG 圖片路徑\n",
        "    ]\n",
        "\n",
        "    # 執行主函式，將 PNG 疊在影片每一幀上\n",
        "    overlay_multiple_pngs_on_video_fast(video_path, overlay_paths, output_path='final_output.mp4')"
      ],
      "metadata": {
        "colab": {
          "base_uri": "https://localhost:8080/"
        },
        "id": "FnJ6mLU13fJb",
        "outputId": "d12e5bee-ca92-46fb-a193-562726c5e696"
      },
      "execution_count": 10,
      "outputs": [
        {
          "output_type": "stream",
          "name": "stdout",
          "text": [
            "影片儲存至：final_output.mp4\n"
          ]
        }
      ]
    }
  ]
}