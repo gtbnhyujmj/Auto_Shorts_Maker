{
  "nbformat": 4,
  "nbformat_minor": 0,
  "metadata": {
    "colab": {
      "provenance": [],
      "mount_file_id": "1QbO-opQggFteNG-zwVvzw_fWjje4VGMl",
      "authorship_tag": "ABX9TyNS1HuVtP0ArmovX7gDqFnN",
      "include_colab_link": true
    },
    "kernelspec": {
      "name": "python3",
      "display_name": "Python 3"
    },
    "language_info": {
      "name": "python"
    }
  },
  "cells": [
    {
      "cell_type": "markdown",
      "metadata": {
        "id": "view-in-github",
        "colab_type": "text"
      },
      "source": [
        "<a href=\"https://colab.research.google.com/github/gtbnhyujmj/Auto_Shorts_Maker/blob/main/Auto_Paste_PNG2MP4.ipynb\" target=\"_parent\"><img src=\"https://colab.research.google.com/assets/colab-badge.svg\" alt=\"Open In Colab\"/></a>"
      ]
    },
    {
      "cell_type": "code",
      "execution_count": 19,
      "metadata": {
        "colab": {
          "base_uri": "https://localhost:8080/"
        },
        "id": "BgXRV_uPMfv-",
        "outputId": "cec9c2a6-171e-4857-da80-4941f736c8d0"
      },
      "outputs": [
        {
          "output_type": "stream",
          "name": "stdout",
          "text": [
            "Requirement already satisfied: opencv-python in /usr/local/lib/python3.11/dist-packages (4.11.0.86)\n",
            "Requirement already satisfied: pillow in /usr/local/lib/python3.11/dist-packages (11.2.1)\n",
            "Requirement already satisfied: numpy>=1.21.2 in /usr/local/lib/python3.11/dist-packages (from opencv-python) (2.0.2)\n"
          ]
        }
      ],
      "source": [
        "# 安裝所需的套件\n",
        "!pip install opencv-python pillow"
      ]
    },
    {
      "cell_type": "code",
      "source": [
        "import cv2  # OpenCV：處理影片讀寫\n",
        "from PIL import Image  # Pillow：處理 PNG 圖片，特別是支援透明度\n",
        "import numpy as np  # 用來做陣列轉換（圖片格式處理）"
      ],
      "metadata": {
        "id": "FnqCE8zTNGyE"
      },
      "execution_count": 20,
      "outputs": []
    },
    {
      "cell_type": "markdown",
      "source": [
        "# ✅ 這個函式負責把 PNG 疊到影片畫面上（會正確處理透明度）"
      ],
      "metadata": {
        "id": "KLu8Wfn3P8h7"
      }
    },
    {
      "cell_type": "code",
      "source": [
        "def blend_with_alpha(base_img, overlay_img):\n",
        "    # 將 OpenCV 讀進來的 BGR 圖片轉成 RGB，再轉成 Pillow 的 RGBA 格式（支援透明）\n",
        "    base_pil = Image.fromarray(cv2.cvtColor(base_img, cv2.COLOR_BGR2RGB)).convert(\"RGBA\")\n",
        "\n",
        "    # overlay_img 已經是 PIL.Image 物件，這裡確保它是 RGBA\n",
        "    overlay_pil = overlay_img.convert(\"RGBA\")\n",
        "\n",
        "    # 使用 Pillow 的 alpha_composite 把透明圖層貼上去\n",
        "    blended = Image.alpha_composite(base_pil, overlay_pil)\n",
        "\n",
        "    # 把合成好的圖轉回 OpenCV 的格式（BGR），這樣才能輸出成影片\n",
        "    return cv2.cvtColor(np.array(blended.convert(\"RGB\")), cv2.COLOR_RGB2BGR)"
      ],
      "metadata": {
        "id": "xl6iVkKHNIdD"
      },
      "execution_count": 21,
      "outputs": []
    },
    {
      "cell_type": "markdown",
      "source": [
        "# ✅ 主程式：把多張 PNG 疊在 MP4 影片每一幀上"
      ],
      "metadata": {
        "id": "EPUhr_RDQiiE"
      }
    },
    {
      "cell_type": "code",
      "source": [
        "def overlay_multiple_pngs_on_video(video_path, overlay_paths, output_path='output.mp4'):\n",
        "    # 開啟影片檔案（讀取）\n",
        "    cap = cv2.VideoCapture(video_path)\n",
        "\n",
        "    # 讀取影片的參數\n",
        "    fps = int(cap.get(cv2.CAP_PROP_FPS))  # 每秒幾張幀數（你原始是 30fps）\n",
        "    width = int(cap.get(cv2.CAP_PROP_FRAME_WIDTH))  # 影片寬度\n",
        "    height = int(cap.get(cv2.CAP_PROP_FRAME_HEIGHT))  # 影片高度\n",
        "\n",
        "    # 設定輸出影片格式（mp4v 是支援度較高的格式）\n",
        "    fourcc = cv2.VideoWriter_fourcc(*'mp4v')\n",
        "    out = cv2.VideoWriter(output_path, fourcc, fps, (width, height))  # 建立影片寫出物件\n",
        "\n",
        "    # 讀入所有 PNG 並先 resize 成跟影片一樣大小\n",
        "    overlay_images = [Image.open(path).resize((width, height)) for path in overlay_paths]\n",
        "\n",
        "    frame_idx = 0  # 幀數指標\n",
        "    while cap.isOpened():  # 當影片還有幀可讀\n",
        "        ret, frame = cap.read()  # 讀一幀\n",
        "        if not ret:  # 沒幀了就跳出\n",
        "            break\n",
        "\n",
        "        result_frame = frame  # 初始畫面是原始影片的幀\n",
        "\n",
        "        # 疊加所有圖片\n",
        "        for overlay_img in overlay_images:\n",
        "            result_frame = blend_with_alpha(result_frame, overlay_img)\n",
        "\n",
        "        out.write(result_frame)  # 寫入到輸出影片中\n",
        "        frame_idx += 1\n",
        "\n",
        "    cap.release()  # 關掉讀影片的資源\n",
        "    out.release()  # 關掉寫影片的資源\n",
        "    print(f\"影片儲存至：{output_path}\")"
      ],
      "metadata": {
        "id": "8Jt1vqmTNXhz"
      },
      "execution_count": 22,
      "outputs": []
    },
    {
      "cell_type": "markdown",
      "source": [
        "# 執行參數區"
      ],
      "metadata": {
        "id": "8eoqpXizQ7xy"
      }
    },
    {
      "cell_type": "code",
      "source": [
        "# 範例使用\n",
        "video_path = '/content/final_output2.mp4'\n",
        "\n",
        "overlay_paths = [\n",
        "    '/content/drive/MyDrive/shorts/characters/char1.png',\n",
        "    '/content/drive/MyDrive/shorts/PNG_Overlayers/OverLayers2.png',\n",
        "    # 'folder3/layer3.png',\n",
        "    # 你可以放任何資料夾的路徑\n",
        "]"
      ],
      "metadata": {
        "id": "OvpwKCb9Nakr"
      },
      "execution_count": 23,
      "outputs": []
    },
    {
      "cell_type": "code",
      "source": [
        "overlay_multiple_pngs_on_video(video_path, overlay_paths, output_path='final_output.mp4')"
      ],
      "metadata": {
        "colab": {
          "base_uri": "https://localhost:8080/"
        },
        "id": "fjBL12j4NcKE",
        "outputId": "b4f725a5-6237-4fc8-d63a-20829c6ec1eb"
      },
      "execution_count": 24,
      "outputs": [
        {
          "output_type": "stream",
          "name": "stdout",
          "text": [
            "影片儲存至：final_output.mp4\n"
          ]
        }
      ]
    }
  ]
}