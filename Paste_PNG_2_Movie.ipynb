{
  "nbformat": 4,
  "nbformat_minor": 0,
  "metadata": {
    "colab": {
      "provenance": [],
      "authorship_tag": "ABX9TyOd50f5qwgvXnVLDb3vDTzE",
      "include_colab_link": true
    },
    "kernelspec": {
      "name": "python3",
      "display_name": "Python 3"
    },
    "language_info": {
      "name": "python"
    }
  },
  "cells": [
    {
      "cell_type": "markdown",
      "metadata": {
        "id": "view-in-github",
        "colab_type": "text"
      },
      "source": [
        "<a href=\"https://colab.research.google.com/github/gtbnhyujmj/Auto_Shorts_Maker/blob/main/Paste_PNG_2_Movie.ipynb\" target=\"_parent\"><img src=\"https://colab.research.google.com/assets/colab-badge.svg\" alt=\"Open In Colab\"/></a>"
      ]
    },
    {
      "cell_type": "markdown",
      "source": [
        "# 掛載硬碟"
      ],
      "metadata": {
        "id": "AmYEvFRmLkGY"
      }
    },
    {
      "cell_type": "code",
      "source": [
        "from google.colab import drive\n",
        "drive.mount('/content/drive')"
      ],
      "metadata": {
        "colab": {
          "base_uri": "https://localhost:8080/"
        },
        "id": "-_fCFJtZz1lP",
        "outputId": "6855f76a-698a-46b5-a64b-448a9c760751"
      },
      "execution_count": 1,
      "outputs": [
        {
          "output_type": "stream",
          "name": "stdout",
          "text": [
            "Mounted at /content/drive\n"
          ]
        }
      ]
    },
    {
      "cell_type": "markdown",
      "source": [
        "# Cell 2：載入影片與 PNG"
      ],
      "metadata": {
        "id": "BbzX0sEPzOmY"
      }
    },
    {
      "cell_type": "code",
      "execution_count": 2,
      "metadata": {
        "id": "RmWQk4NezAqx"
      },
      "outputs": [],
      "source": [
        "import cv2\n",
        "from PIL import Image\n",
        "\n",
        "# 設定檔案名稱\n",
        "video_path = \"/content/drive/MyDrive/shorts/movie01/output.mp4\"  # ←請改成你實際上傳的檔名\n",
        "overlay_path = \"/content/drive/MyDrive/shorts/Text_Overlayers/output.png\"    # ←剛才產生的圖檔"
      ]
    },
    {
      "cell_type": "code",
      "source": [
        "# 載入影片與 overlay 圖片\n",
        "cap = cv2.VideoCapture(video_path)\n",
        "overlay = Image.open(overlay_path).convert(\"RGBA\")"
      ],
      "metadata": {
        "id": "9ockO71-zi7P"
      },
      "execution_count": 3,
      "outputs": []
    },
    {
      "cell_type": "code",
      "source": [
        "# 取得影片資訊\n",
        "fps = cap.get(cv2.CAP_PROP_FPS)\n",
        "frame_width = int(cap.get(cv2.CAP_PROP_FRAME_WIDTH))\n",
        "frame_height = int(cap.get(cv2.CAP_PROP_FRAME_HEIGHT))"
      ],
      "metadata": {
        "id": "wCTMZkUXzkKf"
      },
      "execution_count": 4,
      "outputs": []
    },
    {
      "cell_type": "markdown",
      "source": [
        "# Cell 3：建立輸出影片 Writer"
      ],
      "metadata": {
        "id": "a8aGZ4rTzlif"
      }
    },
    {
      "cell_type": "code",
      "source": [
        "fourcc = cv2.VideoWriter_fourcc(*'mp4v')\n",
        "output_path = \"output_with_text.mp4\"\n",
        "out = cv2.VideoWriter(output_path, fourcc, fps, (frame_width, frame_height))"
      ],
      "metadata": {
        "id": "4NUs-AZnzmC_"
      },
      "execution_count": 5,
      "outputs": []
    },
    {
      "cell_type": "markdown",
      "source": [
        "# Cell 4：逐幀處理與疊圖"
      ],
      "metadata": {
        "id": "2XBek4UlzqHQ"
      }
    },
    {
      "cell_type": "code",
      "source": [
        "from tqdm import tqdm\n",
        "import numpy as np\n",
        "\n",
        "frame_count = int(cap.get(cv2.CAP_PROP_FRAME_COUNT))\n",
        "print(f\"🎞️ 開始處理 {frame_count} 幀\")\n",
        "\n",
        "for _ in tqdm(range(frame_count)):\n",
        "    ret, frame = cap.read()\n",
        "    if not ret:\n",
        "        break\n",
        "\n",
        "    # OpenCV (BGR) → Pillow (RGB)\n",
        "    frame_pil = Image.fromarray(cv2.cvtColor(frame, cv2.COLOR_BGR2RGB)).convert(\"RGBA\")\n",
        "\n",
        "    # 將 overlay 疊上 frame\n",
        "    frame_pil.alpha_composite(overlay)\n",
        "\n",
        "    # Pillow (RGB) → OpenCV (BGR)\n",
        "    result_frame = cv2.cvtColor(np.array(frame_pil.convert(\"RGB\")), cv2.COLOR_RGB2BGR)\n",
        "\n",
        "    # 寫入新影片\n",
        "    out.write(result_frame)\n",
        "\n",
        "# 釋放資源\n",
        "cap.release()\n",
        "out.release()\n",
        "print(\"✅ 完成輸出影片：\", output_path)"
      ],
      "metadata": {
        "colab": {
          "base_uri": "https://localhost:8080/"
        },
        "id": "BlY2Y9pCzr9o",
        "outputId": "b405fdfb-ee16-48f1-f86d-81c63ca717e5"
      },
      "execution_count": 6,
      "outputs": [
        {
          "output_type": "stream",
          "name": "stdout",
          "text": [
            "🎞️ 開始處理 150 幀\n"
          ]
        },
        {
          "output_type": "stream",
          "name": "stderr",
          "text": [
            "100%|██████████| 150/150 [00:09<00:00, 16.26it/s]"
          ]
        },
        {
          "output_type": "stream",
          "name": "stdout",
          "text": [
            "✅ 完成輸出影片： output_with_text.mp4\n"
          ]
        },
        {
          "output_type": "stream",
          "name": "stderr",
          "text": [
            "\n"
          ]
        }
      ]
    },
    {
      "cell_type": "markdown",
      "source": [
        "# Cell 5：下載輸出影片"
      ],
      "metadata": {
        "id": "B7IhBh5FzupC"
      }
    },
    {
      "cell_type": "code",
      "source": [
        "# files.download(\"output_with_text.mp4\")"
      ],
      "metadata": {
        "id": "iIZ6PPOWzvq3"
      },
      "execution_count": 7,
      "outputs": []
    }
  ]
}